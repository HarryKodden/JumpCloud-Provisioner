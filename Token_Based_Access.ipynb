{
  "nbformat": 4,
  "nbformat_minor": 0,
  "metadata": {
    "kernelspec": {
      "display_name": "Python 3",
      "language": "python",
      "name": "python3"
    },
    "language_info": {
      "codemirror_mode": {
        "name": "ipython",
        "version": 3
      },
      "file_extension": ".py",
      "mimetype": "text/x-python",
      "name": "python",
      "nbconvert_exporter": "python",
      "pygments_lexer": "ipython3",
      "version": "3.7.6"
    },
    "colab": {
      "name": "SRAM Token Based Access.ipynb",
      "provenance": [],
      "include_colab_link": true
    }
  },
  "cells": [
    {
      "cell_type": "markdown",
      "metadata": {
        "id": "view-in-github",
        "colab_type": "text"
      },
      "source": [
        "<a href=\"https://colab.research.google.com/github/HarryKodden/JumpCloud-Provisioner/blob/master/Token_Based_Access.ipynb\" target=\"_parent\"><img src=\"https://colab.research.google.com/assets/colab-badge.svg\" alt=\"Open In Colab\"/></a>"
      ]
    },
    {
      "cell_type": "code",
      "metadata": {
        "colab": {
          "base_uri": "https://localhost:8080/"
        },
        "id": "a1lhbsxfupLM",
        "outputId": "02d37203-2ca3-4ba1-8ff8-b6708c7885d7"
      },
      "source": [
        "# Install a pip package in the current Jupyter kernel\n",
        "import sys\n",
        "!{sys.executable} -m pip install iplantuml"
      ],
      "execution_count": 2,
      "outputs": [
        {
          "output_type": "stream",
          "name": "stdout",
          "text": [
            "Collecting iplantuml\n",
            "  Downloading IPlantUML-0.1.1.tar.gz (5.5 kB)\n",
            "Collecting plantweb\n",
            "  Downloading plantweb-1.2.1-py3-none-any.whl (20 kB)\n",
            "Requirement already satisfied: six in /usr/local/lib/python3.7/dist-packages (from plantweb->iplantuml) (1.15.0)\n",
            "Requirement already satisfied: requests in /usr/local/lib/python3.7/dist-packages (from plantweb->iplantuml) (2.23.0)\n",
            "Requirement already satisfied: docutils in /usr/local/lib/python3.7/dist-packages (from plantweb->iplantuml) (0.17.1)\n",
            "Requirement already satisfied: idna<3,>=2.5 in /usr/local/lib/python3.7/dist-packages (from requests->plantweb->iplantuml) (2.10)\n",
            "Requirement already satisfied: urllib3!=1.25.0,!=1.25.1,<1.26,>=1.21.1 in /usr/local/lib/python3.7/dist-packages (from requests->plantweb->iplantuml) (1.24.3)\n",
            "Requirement already satisfied: certifi>=2017.4.17 in /usr/local/lib/python3.7/dist-packages (from requests->plantweb->iplantuml) (2021.5.30)\n",
            "Requirement already satisfied: chardet<4,>=3.0.2 in /usr/local/lib/python3.7/dist-packages (from requests->plantweb->iplantuml) (3.0.4)\n",
            "Building wheels for collected packages: iplantuml\n",
            "  Building wheel for iplantuml (setup.py) ... \u001b[?25l\u001b[?25hdone\n",
            "  Created wheel for iplantuml: filename=IPlantUML-0.1.1-py2.py3-none-any.whl size=4912 sha256=04d733b8461adb5d46661efd52d2149fc7b4a5fed87b14be4d37b6d566e00ed2\n",
            "  Stored in directory: /root/.cache/pip/wheels/cf/64/08/5bac65794ab011a60f7ef62413d3c430cf715345028f4b3914\n",
            "Successfully built iplantuml\n",
            "Installing collected packages: plantweb, iplantuml\n",
            "Successfully installed iplantuml-0.1.1 plantweb-1.2.1\n"
          ]
        }
      ]
    },
    {
      "cell_type": "code",
      "metadata": {
        "id": "6dil97riupLO"
      },
      "source": [
        "import iplantuml"
      ],
      "execution_count": 3,
      "outputs": []
    },
    {
      "cell_type": "code",
      "metadata": {
        "colab": {
          "base_uri": "https://localhost:8080/",
          "height": 445
        },
        "id": "4q4JcdPtupLP",
        "outputId": "d6d0ef4c-3cb6-4b67-c353-d320de2b515a"
      },
      "source": [
        "%%plantuml \n",
        "\n",
        "@startuml\n",
        "User -> Service: Connect to Service...\n",
        "Service -> SRAM: OIDC Authenticate\n",
        "SRAM -> IDP: Redirect user to IDP\n",
        "User -> IDP: User authenticates\n",
        "IDP --> SRAM: IDP Authentication successfull (IDP Claim Attributes)\n",
        "SRAM --> User: Check Consent\n",
        "User -> SRAM: Consent OK\n",
        "SRAM --> Service: SRAM Authentication succesfull (id token, access token)\n",
        "Service -> SRAM: OIDC Introspect (access token)\n",
        "SRAM --> Service: User Info\n",
        "Service --> User: Go Ahead !\n",
        "@enduml "
      ],
      "execution_count": 5,
      "outputs": [
        {
          "output_type": "execute_result",
          "data": {
            "text/plain": [
              "<IPython.core.display.SVG object>"
            ],
            "image/svg+xml": "<svg contentScriptType=\"application/ecmascript\" contentStyleType=\"text/css\" height=\"424px\" preserveAspectRatio=\"none\" style=\"width:956px;height:424px;background:#FFFFFF;\" version=\"1.1\" viewBox=\"0 0 956 424\" width=\"956px\" xmlns=\"http://www.w3.org/2000/svg\" xmlns:xlink=\"http://www.w3.org/1999/xlink\" zoomAndPan=\"magnify\"><defs><filter height=\"300%\" id=\"f1izgitsmpuvhc\" width=\"300%\" x=\"-1\" y=\"-1\"><feGaussianBlur result=\"blurOut\" stdDeviation=\"2.0\"/><feColorMatrix in=\"blurOut\" result=\"blurOut2\" type=\"matrix\" values=\"0 0 0 0 0 0 0 0 0 0 0 0 0 0 0 0 0 0 .4 0\"/><feOffset dx=\"4.0\" dy=\"4.0\" in=\"blurOut2\" result=\"blurOut3\"/><feBlend in=\"SourceGraphic\" in2=\"blurOut3\" mode=\"normal\"/></filter></defs><g><line style=\"stroke:#A80036;stroke-width:1.0;stroke-dasharray:5.0,5.0;\" x1=\"29\" x2=\"29\" y1=\"40.2969\" y2=\"380.7578\"/><line style=\"stroke:#A80036;stroke-width:1.0;stroke-dasharray:5.0,5.0;\" x1=\"186\" x2=\"186\" y1=\"40.2969\" y2=\"380.7578\"/><line style=\"stroke:#A80036;stroke-width:1.0;stroke-dasharray:5.0,5.0;\" x1=\"567\" x2=\"567\" y1=\"40.2969\" y2=\"380.7578\"/><line style=\"stroke:#A80036;stroke-width:1.0;stroke-dasharray:5.0,5.0;\" x1=\"925.5\" x2=\"925.5\" y1=\"40.2969\" y2=\"380.7578\"/><rect fill=\"#FEFECE\" filter=\"url(#f1izgitsmpuvhc)\" height=\"30.2969\" style=\"stroke:#A80036;stroke-width:1.5;\" width=\"45\" x=\"5\" y=\"5\"/><text fill=\"#000000\" font-family=\"sans-serif\" font-size=\"14\" lengthAdjust=\"spacing\" textLength=\"31\" x=\"12\" y=\"24.9951\">User</text><rect fill=\"#FEFECE\" filter=\"url(#f1izgitsmpuvhc)\" height=\"30.2969\" style=\"stroke:#A80036;stroke-width:1.5;\" width=\"45\" x=\"5\" y=\"379.7578\"/><text fill=\"#000000\" font-family=\"sans-serif\" font-size=\"14\" lengthAdjust=\"spacing\" textLength=\"31\" x=\"12\" y=\"399.7529\">User</text><rect fill=\"#FEFECE\" filter=\"url(#f1izgitsmpuvhc)\" height=\"30.2969\" style=\"stroke:#A80036;stroke-width:1.5;\" width=\"67\" x=\"151\" y=\"5\"/><text fill=\"#000000\" font-family=\"sans-serif\" font-size=\"14\" lengthAdjust=\"spacing\" textLength=\"53\" x=\"158\" y=\"24.9951\">Service</text><rect fill=\"#FEFECE\" filter=\"url(#f1izgitsmpuvhc)\" height=\"30.2969\" style=\"stroke:#A80036;stroke-width:1.5;\" width=\"67\" x=\"151\" y=\"379.7578\"/><text fill=\"#000000\" font-family=\"sans-serif\" font-size=\"14\" lengthAdjust=\"spacing\" textLength=\"53\" x=\"158\" y=\"399.7529\">Service</text><rect fill=\"#FEFECE\" filter=\"url(#f1izgitsmpuvhc)\" height=\"30.2969\" style=\"stroke:#A80036;stroke-width:1.5;\" width=\"55\" x=\"538\" y=\"5\"/><text fill=\"#000000\" font-family=\"sans-serif\" font-size=\"14\" lengthAdjust=\"spacing\" textLength=\"41\" x=\"545\" y=\"24.9951\">SRAM</text><rect fill=\"#FEFECE\" filter=\"url(#f1izgitsmpuvhc)\" height=\"30.2969\" style=\"stroke:#A80036;stroke-width:1.5;\" width=\"55\" x=\"538\" y=\"379.7578\"/><text fill=\"#000000\" font-family=\"sans-serif\" font-size=\"14\" lengthAdjust=\"spacing\" textLength=\"41\" x=\"545\" y=\"399.7529\">SRAM</text><rect fill=\"#FEFECE\" filter=\"url(#f1izgitsmpuvhc)\" height=\"30.2969\" style=\"stroke:#A80036;stroke-width:1.5;\" width=\"38\" x=\"904.5\" y=\"5\"/><text fill=\"#000000\" font-family=\"sans-serif\" font-size=\"14\" lengthAdjust=\"spacing\" textLength=\"24\" x=\"911.5\" y=\"24.9951\">IDP</text><rect fill=\"#FEFECE\" filter=\"url(#f1izgitsmpuvhc)\" height=\"30.2969\" style=\"stroke:#A80036;stroke-width:1.5;\" width=\"38\" x=\"904.5\" y=\"379.7578\"/><text fill=\"#000000\" font-family=\"sans-serif\" font-size=\"14\" lengthAdjust=\"spacing\" textLength=\"24\" x=\"911.5\" y=\"399.7529\">IDP</text><polygon fill=\"#A80036\" points=\"174.5,67.4297,184.5,71.4297,174.5,75.4297,178.5,71.4297\" style=\"stroke:#A80036;stroke-width:1.0;\"/><line style=\"stroke:#A80036;stroke-width:1.0;\" x1=\"29.5\" x2=\"180.5\" y1=\"71.4297\" y2=\"71.4297\"/><text fill=\"#000000\" font-family=\"sans-serif\" font-size=\"13\" lengthAdjust=\"spacing\" textLength=\"133\" x=\"36.5\" y=\"66.3638\">Connect to Service...</text><polygon fill=\"#A80036\" points=\"555.5,96.5625,565.5,100.5625,555.5,104.5625,559.5,100.5625\" style=\"stroke:#A80036;stroke-width:1.0;\"/><line style=\"stroke:#A80036;stroke-width:1.0;\" x1=\"186.5\" x2=\"561.5\" y1=\"100.5625\" y2=\"100.5625\"/><text fill=\"#000000\" font-family=\"sans-serif\" font-size=\"13\" lengthAdjust=\"spacing\" textLength=\"118\" x=\"193.5\" y=\"95.4966\">OIDC Authenticate</text><polygon fill=\"#A80036\" points=\"913.5,125.6953,923.5,129.6953,913.5,133.6953,917.5,129.6953\" style=\"stroke:#A80036;stroke-width:1.0;\"/><line style=\"stroke:#A80036;stroke-width:1.0;\" x1=\"567.5\" x2=\"919.5\" y1=\"129.6953\" y2=\"129.6953\"/><text fill=\"#000000\" font-family=\"sans-serif\" font-size=\"13\" lengthAdjust=\"spacing\" textLength=\"127\" x=\"574.5\" y=\"124.6294\">Redirect user to IDP</text><polygon fill=\"#A80036\" points=\"913.5,154.8281,923.5,158.8281,913.5,162.8281,917.5,158.8281\" style=\"stroke:#A80036;stroke-width:1.0;\"/><line style=\"stroke:#A80036;stroke-width:1.0;\" x1=\"29.5\" x2=\"919.5\" y1=\"158.8281\" y2=\"158.8281\"/><text fill=\"#000000\" font-family=\"sans-serif\" font-size=\"13\" lengthAdjust=\"spacing\" textLength=\"121\" x=\"36.5\" y=\"153.7622\">User authenticates</text><polygon fill=\"#A80036\" points=\"578.5,183.9609,568.5,187.9609,578.5,191.9609,574.5,187.9609\" style=\"stroke:#A80036;stroke-width:1.0;\"/><line style=\"stroke:#A80036;stroke-width:1.0;stroke-dasharray:2.0,2.0;\" x1=\"572.5\" x2=\"924.5\" y1=\"187.9609\" y2=\"187.9609\"/><text fill=\"#000000\" font-family=\"sans-serif\" font-size=\"13\" lengthAdjust=\"spacing\" textLength=\"334\" x=\"584.5\" y=\"182.895\">IDP Authentication successfull (IDP Claim Attributes)</text><polygon fill=\"#A80036\" points=\"40.5,213.0938,30.5,217.0938,40.5,221.0938,36.5,217.0938\" style=\"stroke:#A80036;stroke-width:1.0;\"/><line style=\"stroke:#A80036;stroke-width:1.0;stroke-dasharray:2.0,2.0;\" x1=\"34.5\" x2=\"566.5\" y1=\"217.0938\" y2=\"217.0938\"/><text fill=\"#000000\" font-family=\"sans-serif\" font-size=\"13\" lengthAdjust=\"spacing\" textLength=\"96\" x=\"46.5\" y=\"212.0278\">Check Consent</text><polygon fill=\"#A80036\" points=\"555.5,242.2266,565.5,246.2266,555.5,250.2266,559.5,246.2266\" style=\"stroke:#A80036;stroke-width:1.0;\"/><line style=\"stroke:#A80036;stroke-width:1.0;\" x1=\"29.5\" x2=\"561.5\" y1=\"246.2266\" y2=\"246.2266\"/><text fill=\"#000000\" font-family=\"sans-serif\" font-size=\"13\" lengthAdjust=\"spacing\" textLength=\"75\" x=\"36.5\" y=\"241.1606\">Consent OK</text><polygon fill=\"#A80036\" points=\"197.5,271.3594,187.5,275.3594,197.5,279.3594,193.5,275.3594\" style=\"stroke:#A80036;stroke-width:1.0;\"/><line style=\"stroke:#A80036;stroke-width:1.0;stroke-dasharray:2.0,2.0;\" x1=\"191.5\" x2=\"566.5\" y1=\"275.3594\" y2=\"275.3594\"/><text fill=\"#000000\" font-family=\"sans-serif\" font-size=\"13\" lengthAdjust=\"spacing\" textLength=\"357\" x=\"203.5\" y=\"270.2935\">SRAM Authentication succesfull (id token, access token)</text><polygon fill=\"#A80036\" points=\"555.5,300.4922,565.5,304.4922,555.5,308.4922,559.5,304.4922\" style=\"stroke:#A80036;stroke-width:1.0;\"/><line style=\"stroke:#A80036;stroke-width:1.0;\" x1=\"186.5\" x2=\"561.5\" y1=\"304.4922\" y2=\"304.4922\"/><text fill=\"#000000\" font-family=\"sans-serif\" font-size=\"13\" lengthAdjust=\"spacing\" textLength=\"198\" x=\"193.5\" y=\"299.4263\">OIDC Introspect (access token)</text><polygon fill=\"#A80036\" points=\"197.5,329.625,187.5,333.625,197.5,337.625,193.5,333.625\" style=\"stroke:#A80036;stroke-width:1.0;\"/><line style=\"stroke:#A80036;stroke-width:1.0;stroke-dasharray:2.0,2.0;\" x1=\"191.5\" x2=\"566.5\" y1=\"333.625\" y2=\"333.625\"/><text fill=\"#000000\" font-family=\"sans-serif\" font-size=\"13\" lengthAdjust=\"spacing\" textLength=\"57\" x=\"203.5\" y=\"328.5591\">User Info</text><polygon fill=\"#A80036\" points=\"40.5,358.7578,30.5,362.7578,40.5,366.7578,36.5,362.7578\" style=\"stroke:#A80036;stroke-width:1.0;\"/><line style=\"stroke:#A80036;stroke-width:1.0;stroke-dasharray:2.0,2.0;\" x1=\"34.5\" x2=\"185.5\" y1=\"362.7578\" y2=\"362.7578\"/><text fill=\"#000000\" font-family=\"sans-serif\" font-size=\"13\" lengthAdjust=\"spacing\" textLength=\"72\" x=\"46.5\" y=\"357.6919\">Go Ahead !</text><!--MD5=[72d055ada71cf07ec3b68b869d98100d]\n@startuml\nUser -> Service: Connect to Service...\nService -> SRAM: OIDC Authenticate\nSRAM -> IDP: Redirect user to IDP\nUser -> IDP: User authenticates\nIDP - -> SRAM: IDP Authentication successfull (IDP Claim Attributes)\nSRAM - -> User: Check Consent\nUser -> SRAM: Consent OK\nSRAM - -> Service: SRAM Authentication succesfull (id token, access token)\nService -> SRAM: OIDC Introspect (access token)\nSRAM - -> Service: User Info\nService - -> User: Go Ahead !\n@enduml\n\nPlantUML version 1.2021.13beta8(Unknown compile time)\n(GPL source distribution)\nJava Runtime: Java(TM) SE Runtime Environment\nJVM: Java HotSpot(TM) 64-Bit Server VM\nDefault Encoding: UTF-8\nLanguage: en\nCountry: US\n--></g></svg>"
          },
          "metadata": {},
          "execution_count": 5
        }
      ]
    },
    {
      "cell_type": "code",
      "metadata": {
        "colab": {
          "base_uri": "https://localhost:8080/",
          "height": 388
        },
        "id": "H5-KshHYupLQ",
        "outputId": "3c5a7d2e-eeae-4b0b-fef5-f95f0d9ac5f0"
      },
      "source": [
        "%%plantuml \n",
        "\n",
        "@startuml\n",
        "\n",
        "actor \"User\"\n",
        "\n",
        "node \"Application\" {\n",
        "  [Client]\n",
        "}\n",
        "\n",
        "node \"API\" {\n",
        "  [Resource]\n",
        "}\n",
        "\n",
        "node \"Authentication\" {\n",
        "  [AuthN]\n",
        "}\n",
        "\n",
        "node \"Authorization\" {\n",
        "  [AuthZ]\n",
        "}\n",
        "\n",
        "\n",
        "[User].[Client]\n",
        "[User]..[AuthN]\n",
        "[User]..[AuthZ]\n",
        "\n",
        "[AuthN]..[AuthZ]\n",
        "\n",
        "[Client]..[AuthN]\n",
        "[Client]..[AuthZ]\n",
        "[Client].[Resource]\n",
        "\n",
        "@enduml"
      ],
      "execution_count": 6,
      "outputs": [
        {
          "output_type": "execute_result",
          "data": {
            "text/plain": [
              "<IPython.core.display.SVG object>"
            ],
            "image/svg+xml": "<svg contentScriptType=\"application/ecmascript\" contentStyleType=\"text/css\" height=\"367px\" preserveAspectRatio=\"none\" style=\"width:401px;height:367px;background:#FFFFFF;\" version=\"1.1\" viewBox=\"0 0 401 367\" width=\"401px\" xmlns=\"http://www.w3.org/2000/svg\" xmlns:xlink=\"http://www.w3.org/1999/xlink\" zoomAndPan=\"magnify\"><defs><filter height=\"300%\" id=\"flog8tqaktdpb\" width=\"300%\" x=\"-1\" y=\"-1\"><feGaussianBlur result=\"blurOut\" stdDeviation=\"2.0\"/><feColorMatrix in=\"blurOut\" result=\"blurOut2\" type=\"matrix\" values=\"0 0 0 0 0 0 0 0 0 0 0 0 0 0 0 0 0 0 .4 0\"/><feOffset dx=\"4.0\" dy=\"4.0\" in=\"blurOut2\" result=\"blurOut3\"/><feBlend in=\"SourceGraphic\" in2=\"blurOut3\" mode=\"normal\"/></filter></defs><g><!--MD5=[d64883541e3d62e3241c4d12decf100d]\ncluster Application--><polygon fill=\"#FFFFFF\" filter=\"url(#flog8tqaktdpb)\" points=\"53.5,16,63.5,6,222.5,6,222.5,98,212.5,108,53.5,108,53.5,16\" style=\"stroke:#000000;stroke-width:1.5;\"/><line style=\"stroke:#000000;stroke-width:1.5;\" x1=\"212.5\" x2=\"222.5\" y1=\"16\" y2=\"6\"/><line style=\"stroke:#000000;stroke-width:1.5;\" x1=\"53.5\" x2=\"212.5\" y1=\"16\" y2=\"16\"/><line style=\"stroke:#000000;stroke-width:1.5;\" x1=\"212.5\" x2=\"212.5\" y1=\"16\" y2=\"108\"/><text fill=\"#000000\" font-family=\"sans-serif\" font-size=\"14\" font-weight=\"bold\" lengthAdjust=\"spacing\" textLength=\"93\" x=\"87.5\" y=\"31.9951\">Application</text><!--MD5=[fac864e77539af95038f0151207ed802]\ncluster API--><polygon fill=\"#FFFFFF\" filter=\"url(#flog8tqaktdpb)\" points=\"246.5,16,256.5,6,384.5,6,384.5,98,374.5,108,246.5,108,246.5,16\" style=\"stroke:#000000;stroke-width:1.5;\"/><line style=\"stroke:#000000;stroke-width:1.5;\" x1=\"374.5\" x2=\"384.5\" y1=\"16\" y2=\"6\"/><line style=\"stroke:#000000;stroke-width:1.5;\" x1=\"246.5\" x2=\"374.5\" y1=\"16\" y2=\"16\"/><line style=\"stroke:#000000;stroke-width:1.5;\" x1=\"374.5\" x2=\"374.5\" y1=\"16\" y2=\"108\"/><text fill=\"#000000\" font-family=\"sans-serif\" font-size=\"14\" font-weight=\"bold\" lengthAdjust=\"spacing\" textLength=\"26\" x=\"298.5\" y=\"31.9951\">API</text><!--MD5=[36d966c8da22f754e05bf9082953d502]\ncluster Authentication--><polygon fill=\"#FFFFFF\" filter=\"url(#flog8tqaktdpb)\" points=\"35.5,142,45.5,132,234.5,132,234.5,224,224.5,234,35.5,234,35.5,142\" style=\"stroke:#000000;stroke-width:1.5;\"/><line style=\"stroke:#000000;stroke-width:1.5;\" x1=\"224.5\" x2=\"234.5\" y1=\"142\" y2=\"132\"/><line style=\"stroke:#000000;stroke-width:1.5;\" x1=\"35.5\" x2=\"224.5\" y1=\"142\" y2=\"142\"/><line style=\"stroke:#000000;stroke-width:1.5;\" x1=\"224.5\" x2=\"224.5\" y1=\"142\" y2=\"234\"/><text fill=\"#000000\" font-family=\"sans-serif\" font-size=\"14\" font-weight=\"bold\" lengthAdjust=\"spacing\" textLength=\"123\" x=\"69.5\" y=\"157.9951\">Authentication</text><!--MD5=[afcb8546e38fd0254ebcf2f9ef9d8004]\ncluster Authorization--><polygon fill=\"#FFFFFF\" filter=\"url(#flog8tqaktdpb)\" points=\"42.5,268,52.5,258,231.5,258,231.5,350,221.5,360,42.5,360,42.5,268\" style=\"stroke:#000000;stroke-width:1.5;\"/><line style=\"stroke:#000000;stroke-width:1.5;\" x1=\"221.5\" x2=\"231.5\" y1=\"268\" y2=\"258\"/><line style=\"stroke:#000000;stroke-width:1.5;\" x1=\"42.5\" x2=\"221.5\" y1=\"268\" y2=\"268\"/><line style=\"stroke:#000000;stroke-width:1.5;\" x1=\"221.5\" x2=\"221.5\" y1=\"268\" y2=\"360\"/><text fill=\"#000000\" font-family=\"sans-serif\" font-size=\"14\" font-weight=\"bold\" lengthAdjust=\"spacing\" textLength=\"113\" x=\"76.5\" y=\"283.9951\">Authorization</text><!--MD5=[0ba5ee7700168656dc1b457c6fe9fdac]\nentity Client--><rect fill=\"#FEFECE\" filter=\"url(#flog8tqaktdpb)\" height=\"46.2969\" style=\"stroke:#A80036;stroke-width:1.5;\" width=\"83\" x=\"92\" y=\"46\"/><rect fill=\"#FEFECE\" height=\"10\" style=\"stroke:#A80036;stroke-width:1.5;\" width=\"15\" x=\"155\" y=\"51\"/><rect fill=\"#FEFECE\" height=\"2\" style=\"stroke:#A80036;stroke-width:1.5;\" width=\"4\" x=\"153\" y=\"53\"/><rect fill=\"#FEFECE\" height=\"2\" style=\"stroke:#A80036;stroke-width:1.5;\" width=\"4\" x=\"153\" y=\"57\"/><text fill=\"#000000\" font-family=\"sans-serif\" font-size=\"14\" lengthAdjust=\"spacing\" textLength=\"43\" x=\"107\" y=\"78.9951\">Client</text><!--MD5=[043ccd64d0f175904b4cedf0b9b5700a]\nentity Resource--><rect fill=\"#FEFECE\" filter=\"url(#flog8tqaktdpb)\" height=\"46.2969\" style=\"stroke:#A80036;stroke-width:1.5;\" width=\"106\" x=\"262.5\" y=\"46\"/><rect fill=\"#FEFECE\" height=\"10\" style=\"stroke:#A80036;stroke-width:1.5;\" width=\"15\" x=\"348.5\" y=\"51\"/><rect fill=\"#FEFECE\" height=\"2\" style=\"stroke:#A80036;stroke-width:1.5;\" width=\"4\" x=\"346.5\" y=\"53\"/><rect fill=\"#FEFECE\" height=\"2\" style=\"stroke:#A80036;stroke-width:1.5;\" width=\"4\" x=\"346.5\" y=\"57\"/><text fill=\"#000000\" font-family=\"sans-serif\" font-size=\"14\" lengthAdjust=\"spacing\" textLength=\"66\" x=\"277.5\" y=\"78.9951\">Resource</text><!--MD5=[99ffb13f94b6a6fdfb9d6b8e25935572]\nentity AuthN--><rect fill=\"#FEFECE\" filter=\"url(#flog8tqaktdpb)\" height=\"46.2969\" style=\"stroke:#A80036;stroke-width:1.5;\" width=\"84\" x=\"66.5\" y=\"172\"/><rect fill=\"#FEFECE\" height=\"10\" style=\"stroke:#A80036;stroke-width:1.5;\" width=\"15\" x=\"130.5\" y=\"177\"/><rect fill=\"#FEFECE\" height=\"2\" style=\"stroke:#A80036;stroke-width:1.5;\" width=\"4\" x=\"128.5\" y=\"179\"/><rect fill=\"#FEFECE\" height=\"2\" style=\"stroke:#A80036;stroke-width:1.5;\" width=\"4\" x=\"128.5\" y=\"183\"/><text fill=\"#000000\" font-family=\"sans-serif\" font-size=\"14\" lengthAdjust=\"spacing\" textLength=\"44\" x=\"81.5\" y=\"204.9951\">AuthN</text><!--MD5=[27a8a39199403c996021bcbb5abe5b4d]\nentity AuthZ--><rect fill=\"#FEFECE\" filter=\"url(#flog8tqaktdpb)\" height=\"46.2969\" style=\"stroke:#A80036;stroke-width:1.5;\" width=\"84\" x=\"66.5\" y=\"298\"/><rect fill=\"#FEFECE\" height=\"10\" style=\"stroke:#A80036;stroke-width:1.5;\" width=\"15\" x=\"130.5\" y=\"303\"/><rect fill=\"#FEFECE\" height=\"2\" style=\"stroke:#A80036;stroke-width:1.5;\" width=\"4\" x=\"128.5\" y=\"305\"/><rect fill=\"#FEFECE\" height=\"2\" style=\"stroke:#A80036;stroke-width:1.5;\" width=\"4\" x=\"128.5\" y=\"309\"/><text fill=\"#000000\" font-family=\"sans-serif\" font-size=\"14\" lengthAdjust=\"spacing\" textLength=\"44\" x=\"81.5\" y=\"330.9951\">AuthZ</text><!--MD5=[fee662a292a0353a69bd162820bae93b]\nentity User--><ellipse cx=\"21.5\" cy=\"38\" fill=\"#FEFECE\" filter=\"url(#flog8tqaktdpb)\" rx=\"8\" ry=\"8\" style=\"stroke:#A80036;stroke-width:1.5;\"/><path d=\"M21.5,46 L21.5,73 M8.5,54 L34.5,54 M21.5,73 L8.5,88 M21.5,73 L34.5,88 \" fill=\"none\" filter=\"url(#flog8tqaktdpb)\" style=\"stroke:#A80036;stroke-width:1.5;\"/><text fill=\"#000000\" font-family=\"sans-serif\" font-size=\"14\" lengthAdjust=\"spacing\" textLength=\"31\" x=\"6\" y=\"106.4951\">User</text><!--MD5=[b9014cebc313a16442615e671f7ea802]\nlink User to Client--><path d=\"M37.25,69 C55.4222,69 73.5944,69 91.7666,69 \" fill=\"none\" id=\"User-Client\" style=\"stroke:#A80036;stroke-width:1.0;stroke-dasharray:7.0,7.0;\"/><!--MD5=[f356bb3c89b621f6d9ba6b1d2eb3b037]\nlink User to AuthN--><path d=\"M37.0539,92.169 C52.7918,114.6 76.9929,149.093 92.7875,171.605 \" fill=\"none\" id=\"User-AuthN\" style=\"stroke:#A80036;stroke-width:1.0;stroke-dasharray:7.0,7.0;\"/><!--MD5=[cb93010ee0c1feb6777083ea20ac1b9c]\nlink User to AuthZ--><path d=\"M22.9281,109.728 C25.424,145.575 32.2016,199.105 50.5,242 C59.3726,262.799 74.8479,283.1953 87.5828,297.9115 \" fill=\"none\" id=\"User-AuthZ\" style=\"stroke:#A80036;stroke-width:1.0;stroke-dasharray:7.0,7.0;\"/><!--MD5=[dac4e4a516ebf839b668401c36b5a8dd]\nlink AuthN to AuthZ--><path d=\"M108.5,218.169 C108.5,240.6 108.5,275.093 108.5,297.6051 \" fill=\"none\" id=\"AuthN-AuthZ\" style=\"stroke:#A80036;stroke-width:1.0;stroke-dasharray:7.0,7.0;\"/><!--MD5=[1b19b86d1b0eb0b08c3334397f733b65]\nlink Client to AuthN--><path d=\"M129.031,92.169 C124.508,114.6 117.554,149.093 113.015,171.605 \" fill=\"none\" id=\"Client-AuthN\" style=\"stroke:#A80036;stroke-width:1.0;stroke-dasharray:7.0,7.0;\"/><!--MD5=[69b4d6f969fd675afe16a76e52e76197]\nlink Client to AuthZ--><path d=\"M150.788,92.084 C157.028,101.393 163.316,112.683 166.5,124 C180.705,174.484 182.982,192.213 166.5,242 C159.499,263.147 144.298,283.2235 131.214,297.7117 \" fill=\"none\" id=\"Client-AuthZ\" style=\"stroke:#A80036;stroke-width:1.0;stroke-dasharray:7.0,7.0;\"/><!--MD5=[cdcfdb0cdfee88af0ccc2d9640ee877c]\nlink Client to Resource--><path d=\"M175.09,69 C204.159,69 233.228,69 262.298,69 \" fill=\"none\" id=\"Client-Resource\" style=\"stroke:#A80036;stroke-width:1.0;stroke-dasharray:7.0,7.0;\"/><!--MD5=[398435c73467d1c40f6e23bd40423f8e]\n@startuml\nactor \"User\"\n\nnode \"Application\" {\n  [Client]\n}\n\nnode \"API\" {\n  [Resource]\n}\n\nnode \"Authentication\" {\n  [AuthN]\n}\n\nnode \"Authorization\" {\n  [AuthZ]\n}\n\n\n[User].[Client]\n[User]..[AuthN]\n[User]..[AuthZ]\n\n[AuthN]..[AuthZ]\n\n[Client]..[AuthN]\n[Client]..[AuthZ]\n[Client].[Resource]\n@enduml\n\nPlantUML version 1.2021.13beta8(Unknown compile time)\n(GPL source distribution)\nJava Runtime: Java(TM) SE Runtime Environment\nJVM: Java HotSpot(TM) 64-Bit Server VM\nDefault Encoding: UTF-8\nLanguage: en\nCountry: US\n--></g></svg>"
          },
          "metadata": {},
          "execution_count": 6
        }
      ]
    },
    {
      "cell_type": "code",
      "metadata": {
        "colab": {
          "base_uri": "https://localhost:8080/",
          "height": 1000
        },
        "id": "_LYvQPMcupLQ",
        "outputId": "7c73677e-140b-4b14-998c-5a802048daa5"
      },
      "source": [
        "%%plantuml \n",
        "\n",
        "@startuml\n",
        "\n",
        "actor User\n",
        "\n",
        "== Initial ==\n",
        "\n",
        "User -> Client : Request Client Sign In\n",
        "note right : GET /user/sign_in\n",
        "\n",
        "activate Client\n",
        "Client -> Client : Access Token?\n",
        "\n",
        "== Authentication ==\n",
        "\n",
        "Client -> AuthN : Redirect\n",
        "note right : GET /oauth/authorize\n",
        "deactivate Client\n",
        "\n",
        "activate AuthN\n",
        "AuthN -> AuthN : Current User?\n",
        "AuthN -> AuthN : Redirect\n",
        "note right : GET /user/sign_in\n",
        "User <- AuthN : Response AuthN Sign In\n",
        "deactivate AuthN\n",
        "\n",
        "User -> AuthN : Request AuthN Sign In (ID, Pass)\n",
        "\n",
        "activate AuthN\n",
        "note right : POST /user/sign_in\n",
        "AuthN -> AuthN : Redirect\n",
        "note right : GET /oauth/authorize\n",
        "\n",
        "== Authorization ==\n",
        "\n",
        "AuthN -> AuthZ : Redirect\n",
        "note right : GET /oauth/authorize\n",
        "deactivate AuthN\n",
        "\n",
        "activate AuthZ\n",
        "User <- AuthZ : Response AuthZ Application\n",
        "deactivate AuthZ\n",
        "\n",
        "User -> AuthZ : Request AuthZ Application (Allow)\n",
        "note right : POST /oauth/authorize\n",
        "\n",
        "activate AuthZ\n",
        "AuthZ -> AuthZ : Generate Code\n",
        "\n",
        "Client <- AuthZ : Redirect\n",
        "note right : GET /callback\n",
        "deactivate AuthZ\n",
        "\n",
        "activate Client\n",
        "Client -> AuthZ : Request Access Token\n",
        "note right : POST /oauth/access_token\n",
        "\n",
        "activate AuthZ\n",
        "AuthZ -> AuthZ : Authorization Code?\n",
        "AuthZ -> AuthZ : Generate Token\n",
        "\n",
        "Client <-- AuthZ : Response Access Token\n",
        "deactivate AuthZ\n",
        "\n",
        "Client -> Client : Redirect\n",
        "note right : GET /user/sign_in\n",
        "\n",
        "Client -> Client : Access Token?\n",
        "\n",
        "== Resource ==\n",
        "\n",
        "Client -> Resource : Request User (Access Token)\n",
        "note right : GET /api/user\n",
        "\n",
        "activate Resource\n",
        "Client <-- Resource : Response User\n",
        "deactivate Resource\n",
        "\n",
        "== Final ==\n",
        "\n",
        "Client -> Client : Redirect\n",
        "note right : GET /\n",
        "\n",
        "User <- Client : Response Client Sign In\n",
        "deactivate Client\n",
        "\n",
        "@enduml"
      ],
      "execution_count": 7,
      "outputs": [
        {
          "output_type": "execute_result",
          "data": {
            "text/plain": [
              "<IPython.core.display.SVG object>"
            ],
            "image/svg+xml": "<svg contentScriptType=\"application/ecmascript\" contentStyleType=\"text/css\" height=\"1288px\" preserveAspectRatio=\"none\" style=\"width:712px;height:1288px;background:#FFFFFF;\" version=\"1.1\" viewBox=\"0 0 712 1288\" width=\"712px\" xmlns=\"http://www.w3.org/2000/svg\" xmlns:xlink=\"http://www.w3.org/1999/xlink\" zoomAndPan=\"magnify\"><defs><filter height=\"300%\" id=\"f1xlz3pg29dzoe\" width=\"300%\" x=\"-1\" y=\"-1\"><feGaussianBlur result=\"blurOut\" stdDeviation=\"2.0\"/><feColorMatrix in=\"blurOut\" result=\"blurOut2\" type=\"matrix\" values=\"0 0 0 0 0 0 0 0 0 0 0 0 0 0 0 0 0 0 .4 0\"/><feOffset dx=\"4.0\" dy=\"4.0\" in=\"blurOut2\" result=\"blurOut3\"/><feBlend in=\"SourceGraphic\" in2=\"blurOut3\" mode=\"normal\"/></filter></defs><g><rect fill=\"#FFFFFF\" filter=\"url(#f1xlz3pg29dzoe)\" height=\"124.3984\" style=\"stroke:#A80036;stroke-width:1.0;\" width=\"10\" x=\"196.5\" y=\"167.5625\"/><rect fill=\"#FFFFFF\" filter=\"url(#f1xlz3pg29dzoe)\" height=\"467.5938\" style=\"stroke:#A80036;stroke-width:1.0;\" width=\"10\" x=\"196.5\" y=\"718.4219\"/><rect fill=\"#FFFFFF\" filter=\"url(#f1xlz3pg29dzoe)\" height=\"118.3984\" style=\"stroke:#A80036;stroke-width:1.0;\" width=\"10\" x=\"315.5\" y=\"291.9609\"/><rect fill=\"#FFFFFF\" filter=\"url(#f1xlz3pg29dzoe)\" height=\"124.3984\" style=\"stroke:#A80036;stroke-width:1.0;\" width=\"10\" x=\"315.5\" y=\"444.4922\"/><rect fill=\"#FFFFFF\" filter=\"url(#f1xlz3pg29dzoe)\" height=\"34.1328\" style=\"stroke:#A80036;stroke-width:1.0;\" width=\"10\" x=\"427.5\" y=\"568.8906\"/><rect fill=\"#FFFFFF\" filter=\"url(#f1xlz3pg29dzoe)\" height=\"81.2656\" style=\"stroke:#A80036;stroke-width:1.0;\" width=\"10\" x=\"427.5\" y=\"637.1563\"/><rect fill=\"#FFFFFF\" filter=\"url(#f1xlz3pg29dzoe)\" height=\"118.3984\" style=\"stroke:#A80036;stroke-width:1.0;\" width=\"10\" x=\"427.5\" y=\"757.5547\"/><rect fill=\"#FFFFFF\" filter=\"url(#f1xlz3pg29dzoe)\" height=\"34.1328\" style=\"stroke:#A80036;stroke-width:1.0;\" width=\"10\" x=\"580.5\" y=\"1037.4844\"/><line style=\"stroke:#A80036;stroke-width:1.0;stroke-dasharray:5.0,5.0;\" x1=\"23\" x2=\"23\" y1=\"88.2969\" y2=\"1204.0156\"/><line style=\"stroke:#A80036;stroke-width:1.0;stroke-dasharray:5.0,5.0;\" x1=\"201\" x2=\"201\" y1=\"88.2969\" y2=\"1204.0156\"/><line style=\"stroke:#A80036;stroke-width:1.0;stroke-dasharray:5.0,5.0;\" x1=\"320.5\" x2=\"320.5\" y1=\"88.2969\" y2=\"1204.0156\"/><line style=\"stroke:#A80036;stroke-width:1.0;stroke-dasharray:5.0,5.0;\" x1=\"432.5\" x2=\"432.5\" y1=\"88.2969\" y2=\"1204.0156\"/><line style=\"stroke:#A80036;stroke-width:1.0;stroke-dasharray:5.0,5.0;\" x1=\"585.5\" x2=\"585.5\" y1=\"88.2969\" y2=\"1204.0156\"/><text fill=\"#000000\" font-family=\"sans-serif\" font-size=\"14\" lengthAdjust=\"spacing\" textLength=\"31\" x=\"5\" y=\"84.9951\">User</text><ellipse cx=\"23.5\" cy=\"15\" fill=\"#FEFECE\" filter=\"url(#f1xlz3pg29dzoe)\" rx=\"8\" ry=\"8\" style=\"stroke:#A80036;stroke-width:2.0;\"/><path d=\"M23.5,23 L23.5,50 M10.5,31 L36.5,31 M23.5,50 L10.5,65 M23.5,50 L36.5,65 \" fill=\"none\" filter=\"url(#f1xlz3pg29dzoe)\" style=\"stroke:#A80036;stroke-width:2.0;\"/><text fill=\"#000000\" font-family=\"sans-serif\" font-size=\"14\" lengthAdjust=\"spacing\" textLength=\"31\" x=\"5\" y=\"1216.0107\">User</text><ellipse cx=\"23.5\" cy=\"1229.3125\" fill=\"#FEFECE\" filter=\"url(#f1xlz3pg29dzoe)\" rx=\"8\" ry=\"8\" style=\"stroke:#A80036;stroke-width:2.0;\"/><path d=\"M23.5,1237.3125 L23.5,1264.3125 M10.5,1245.3125 L36.5,1245.3125 M23.5,1264.3125 L10.5,1279.3125 M23.5,1264.3125 L36.5,1279.3125 \" fill=\"none\" filter=\"url(#f1xlz3pg29dzoe)\" style=\"stroke:#A80036;stroke-width:2.0;\"/><rect fill=\"#FEFECE\" filter=\"url(#f1xlz3pg29dzoe)\" height=\"30.2969\" style=\"stroke:#A80036;stroke-width:1.5;\" width=\"57\" x=\"171\" y=\"53\"/><text fill=\"#000000\" font-family=\"sans-serif\" font-size=\"14\" lengthAdjust=\"spacing\" textLength=\"43\" x=\"178\" y=\"72.9951\">Client</text><rect fill=\"#FEFECE\" filter=\"url(#f1xlz3pg29dzoe)\" height=\"30.2969\" style=\"stroke:#A80036;stroke-width:1.5;\" width=\"57\" x=\"171\" y=\"1203.0156\"/><text fill=\"#000000\" font-family=\"sans-serif\" font-size=\"14\" lengthAdjust=\"spacing\" textLength=\"43\" x=\"178\" y=\"1223.0107\">Client</text><rect fill=\"#FEFECE\" filter=\"url(#f1xlz3pg29dzoe)\" height=\"30.2969\" style=\"stroke:#A80036;stroke-width:1.5;\" width=\"58\" x=\"289.5\" y=\"53\"/><text fill=\"#000000\" font-family=\"sans-serif\" font-size=\"14\" lengthAdjust=\"spacing\" textLength=\"44\" x=\"296.5\" y=\"72.9951\">AuthN</text><rect fill=\"#FEFECE\" filter=\"url(#f1xlz3pg29dzoe)\" height=\"30.2969\" style=\"stroke:#A80036;stroke-width:1.5;\" width=\"58\" x=\"289.5\" y=\"1203.0156\"/><text fill=\"#000000\" font-family=\"sans-serif\" font-size=\"14\" lengthAdjust=\"spacing\" textLength=\"44\" x=\"296.5\" y=\"1223.0107\">AuthN</text><rect fill=\"#FEFECE\" filter=\"url(#f1xlz3pg29dzoe)\" height=\"30.2969\" style=\"stroke:#A80036;stroke-width:1.5;\" width=\"58\" x=\"401.5\" y=\"53\"/><text fill=\"#000000\" font-family=\"sans-serif\" font-size=\"14\" lengthAdjust=\"spacing\" textLength=\"44\" x=\"408.5\" y=\"72.9951\">AuthZ</text><rect fill=\"#FEFECE\" filter=\"url(#f1xlz3pg29dzoe)\" height=\"30.2969\" style=\"stroke:#A80036;stroke-width:1.5;\" width=\"58\" x=\"401.5\" y=\"1203.0156\"/><text fill=\"#000000\" font-family=\"sans-serif\" font-size=\"14\" lengthAdjust=\"spacing\" textLength=\"44\" x=\"408.5\" y=\"1223.0107\">AuthZ</text><rect fill=\"#FEFECE\" filter=\"url(#f1xlz3pg29dzoe)\" height=\"30.2969\" style=\"stroke:#A80036;stroke-width:1.5;\" width=\"80\" x=\"543.5\" y=\"53\"/><text fill=\"#000000\" font-family=\"sans-serif\" font-size=\"14\" lengthAdjust=\"spacing\" textLength=\"66\" x=\"550.5\" y=\"72.9951\">Resource</text><rect fill=\"#FEFECE\" filter=\"url(#f1xlz3pg29dzoe)\" height=\"30.2969\" style=\"stroke:#A80036;stroke-width:1.5;\" width=\"80\" x=\"543.5\" y=\"1203.0156\"/><text fill=\"#000000\" font-family=\"sans-serif\" font-size=\"14\" lengthAdjust=\"spacing\" textLength=\"66\" x=\"550.5\" y=\"1223.0107\">Resource</text><rect fill=\"#FFFFFF\" filter=\"url(#f1xlz3pg29dzoe)\" height=\"124.3984\" style=\"stroke:#A80036;stroke-width:1.0;\" width=\"10\" x=\"196.5\" y=\"167.5625\"/><rect fill=\"#FFFFFF\" filter=\"url(#f1xlz3pg29dzoe)\" height=\"467.5938\" style=\"stroke:#A80036;stroke-width:1.0;\" width=\"10\" x=\"196.5\" y=\"718.4219\"/><rect fill=\"#FFFFFF\" filter=\"url(#f1xlz3pg29dzoe)\" height=\"118.3984\" style=\"stroke:#A80036;stroke-width:1.0;\" width=\"10\" x=\"315.5\" y=\"291.9609\"/><rect fill=\"#FFFFFF\" filter=\"url(#f1xlz3pg29dzoe)\" height=\"124.3984\" style=\"stroke:#A80036;stroke-width:1.0;\" width=\"10\" x=\"315.5\" y=\"444.4922\"/><rect fill=\"#FFFFFF\" filter=\"url(#f1xlz3pg29dzoe)\" height=\"34.1328\" style=\"stroke:#A80036;stroke-width:1.0;\" width=\"10\" x=\"427.5\" y=\"568.8906\"/><rect fill=\"#FFFFFF\" filter=\"url(#f1xlz3pg29dzoe)\" height=\"81.2656\" style=\"stroke:#A80036;stroke-width:1.0;\" width=\"10\" x=\"427.5\" y=\"637.1563\"/><rect fill=\"#FFFFFF\" filter=\"url(#f1xlz3pg29dzoe)\" height=\"118.3984\" style=\"stroke:#A80036;stroke-width:1.0;\" width=\"10\" x=\"427.5\" y=\"757.5547\"/><rect fill=\"#FFFFFF\" filter=\"url(#f1xlz3pg29dzoe)\" height=\"34.1328\" style=\"stroke:#A80036;stroke-width:1.0;\" width=\"10\" x=\"580.5\" y=\"1037.4844\"/><rect fill=\"#EEEEEE\" filter=\"url(#f1xlz3pg29dzoe)\" height=\"3\" style=\"stroke:#EEEEEE;stroke-width:1.0;\" width=\"705.5\" x=\"0\" y=\"118.8633\"/><line style=\"stroke:#000000;stroke-width:1.0;\" x1=\"0\" x2=\"705.5\" y1=\"118.8633\" y2=\"118.8633\"/><line style=\"stroke:#000000;stroke-width:1.0;\" x1=\"0\" x2=\"705.5\" y1=\"121.8633\" y2=\"121.8633\"/><rect fill=\"#EEEEEE\" filter=\"url(#f1xlz3pg29dzoe)\" height=\"23.1328\" style=\"stroke:#000000;stroke-width:2.0;\" width=\"62\" x=\"321.75\" y=\"108.2969\"/><text fill=\"#000000\" font-family=\"sans-serif\" font-size=\"13\" font-weight=\"bold\" lengthAdjust=\"spacing\" textLength=\"43\" x=\"327.75\" y=\"124.3638\">Initial</text><polygon fill=\"#A80036\" points=\"184.5,163.5625,194.5,167.5625,184.5,171.5625,188.5,167.5625\" style=\"stroke:#A80036;stroke-width:1.0;\"/><line style=\"stroke:#A80036;stroke-width:1.0;\" x1=\"23.5\" x2=\"190.5\" y1=\"167.5625\" y2=\"167.5625\"/><text fill=\"#000000\" font-family=\"sans-serif\" font-size=\"13\" lengthAdjust=\"spacing\" textLength=\"139\" x=\"30.5\" y=\"162.4966\">Request Client Sign In</text><path d=\"M211,146.4297 L211,171.4297 L342,171.4297 L342,156.4297 L332,146.4297 L211,146.4297 \" fill=\"#FBFB77\" filter=\"url(#f1xlz3pg29dzoe)\" style=\"stroke:#A80036;stroke-width:1.0;\"/><path d=\"M332,146.4297 L332,156.4297 L342,156.4297 L332,146.4297 \" fill=\"#FBFB77\" style=\"stroke:#A80036;stroke-width:1.0;\"/><text fill=\"#000000\" font-family=\"sans-serif\" font-size=\"13\" lengthAdjust=\"spacing\" textLength=\"110\" x=\"217\" y=\"163.4966\">GET /user/sign_in</text><line style=\"stroke:#A80036;stroke-width:1.0;\" x1=\"206.5\" x2=\"248.5\" y1=\"201.6953\" y2=\"201.6953\"/><line style=\"stroke:#A80036;stroke-width:1.0;\" x1=\"248.5\" x2=\"248.5\" y1=\"201.6953\" y2=\"214.6953\"/><line style=\"stroke:#A80036;stroke-width:1.0;\" x1=\"207.5\" x2=\"248.5\" y1=\"214.6953\" y2=\"214.6953\"/><polygon fill=\"#A80036\" points=\"217.5,210.6953,207.5,214.6953,217.5,218.6953,213.5,214.6953\" style=\"stroke:#A80036;stroke-width:1.0;\"/><text fill=\"#000000\" font-family=\"sans-serif\" font-size=\"13\" lengthAdjust=\"spacing\" textLength=\"95\" x=\"213.5\" y=\"196.6294\">Access Token?</text><rect fill=\"#EEEEEE\" filter=\"url(#f1xlz3pg29dzoe)\" height=\"3\" style=\"stroke:#EEEEEE;stroke-width:1.0;\" width=\"705.5\" x=\"0\" y=\"243.2617\"/><line style=\"stroke:#000000;stroke-width:1.0;\" x1=\"0\" x2=\"705.5\" y1=\"243.2617\" y2=\"243.2617\"/><line style=\"stroke:#000000;stroke-width:1.0;\" x1=\"0\" x2=\"705.5\" y1=\"246.2617\" y2=\"246.2617\"/><rect fill=\"#EEEEEE\" filter=\"url(#f1xlz3pg29dzoe)\" height=\"23.1328\" style=\"stroke:#000000;stroke-width:2.0;\" width=\"133\" x=\"286.25\" y=\"232.6953\"/><text fill=\"#000000\" font-family=\"sans-serif\" font-size=\"13\" font-weight=\"bold\" lengthAdjust=\"spacing\" textLength=\"114\" x=\"292.25\" y=\"248.7622\">Authentication</text><polygon fill=\"#A80036\" points=\"303.5,287.9609,313.5,291.9609,303.5,295.9609,307.5,291.9609\" style=\"stroke:#A80036;stroke-width:1.0;\"/><line style=\"stroke:#A80036;stroke-width:1.0;\" x1=\"201.5\" x2=\"309.5\" y1=\"291.9609\" y2=\"291.9609\"/><text fill=\"#000000\" font-family=\"sans-serif\" font-size=\"13\" lengthAdjust=\"spacing\" textLength=\"53\" x=\"208.5\" y=\"286.895\">Redirect</text><path d=\"M330,270.8281 L330,295.8281 L486,295.8281 L486,280.8281 L476,270.8281 L330,270.8281 \" fill=\"#FBFB77\" filter=\"url(#f1xlz3pg29dzoe)\" style=\"stroke:#A80036;stroke-width:1.0;\"/><path d=\"M476,270.8281 L476,280.8281 L486,280.8281 L476,270.8281 \" fill=\"#FBFB77\" style=\"stroke:#A80036;stroke-width:1.0;\"/><text fill=\"#000000\" font-family=\"sans-serif\" font-size=\"13\" lengthAdjust=\"spacing\" textLength=\"135\" x=\"336\" y=\"287.895\">GET /oauth/authorize</text><line style=\"stroke:#A80036;stroke-width:1.0;\" x1=\"325.5\" x2=\"367.5\" y1=\"326.0938\" y2=\"326.0938\"/><line style=\"stroke:#A80036;stroke-width:1.0;\" x1=\"367.5\" x2=\"367.5\" y1=\"326.0938\" y2=\"339.0938\"/><line style=\"stroke:#A80036;stroke-width:1.0;\" x1=\"326.5\" x2=\"367.5\" y1=\"339.0938\" y2=\"339.0938\"/><polygon fill=\"#A80036\" points=\"336.5,335.0938,326.5,339.0938,336.5,343.0938,332.5,339.0938\" style=\"stroke:#A80036;stroke-width:1.0;\"/><text fill=\"#000000\" font-family=\"sans-serif\" font-size=\"13\" lengthAdjust=\"spacing\" textLength=\"88\" x=\"332.5\" y=\"321.0278\">Current User?</text><line style=\"stroke:#A80036;stroke-width:1.0;\" x1=\"325.5\" x2=\"367.5\" y1=\"368.2266\" y2=\"368.2266\"/><line style=\"stroke:#A80036;stroke-width:1.0;\" x1=\"367.5\" x2=\"367.5\" y1=\"368.2266\" y2=\"381.2266\"/><line style=\"stroke:#A80036;stroke-width:1.0;\" x1=\"326.5\" x2=\"367.5\" y1=\"381.2266\" y2=\"381.2266\"/><polygon fill=\"#A80036\" points=\"336.5,377.2266,326.5,381.2266,336.5,385.2266,332.5,381.2266\" style=\"stroke:#A80036;stroke-width:1.0;\"/><text fill=\"#000000\" font-family=\"sans-serif\" font-size=\"13\" lengthAdjust=\"spacing\" textLength=\"53\" x=\"332.5\" y=\"363.1606\">Redirect</text><path d=\"M397,353.5938 L397,378.5938 L528,378.5938 L528,363.5938 L518,353.5938 L397,353.5938 \" fill=\"#FBFB77\" filter=\"url(#f1xlz3pg29dzoe)\" style=\"stroke:#A80036;stroke-width:1.0;\"/><path d=\"M518,353.5938 L518,363.5938 L528,363.5938 L518,353.5938 \" fill=\"#FBFB77\" style=\"stroke:#A80036;stroke-width:1.0;\"/><text fill=\"#000000\" font-family=\"sans-serif\" font-size=\"13\" lengthAdjust=\"spacing\" textLength=\"110\" x=\"403\" y=\"370.6606\">GET /user/sign_in</text><polygon fill=\"#A80036\" points=\"34.5,406.3594,24.5,410.3594,34.5,414.3594,30.5,410.3594\" style=\"stroke:#A80036;stroke-width:1.0;\"/><line style=\"stroke:#A80036;stroke-width:1.0;\" x1=\"28.5\" x2=\"319.5\" y1=\"410.3594\" y2=\"410.3594\"/><text fill=\"#000000\" font-family=\"sans-serif\" font-size=\"13\" lengthAdjust=\"spacing\" textLength=\"152\" x=\"40.5\" y=\"405.2935\">Response AuthN Sign In</text><polygon fill=\"#A80036\" points=\"303.5,440.4922,313.5,444.4922,303.5,448.4922,307.5,444.4922\" style=\"stroke:#A80036;stroke-width:1.0;\"/><line style=\"stroke:#A80036;stroke-width:1.0;\" x1=\"23.5\" x2=\"309.5\" y1=\"444.4922\" y2=\"444.4922\"/><text fill=\"#000000\" font-family=\"sans-serif\" font-size=\"13\" lengthAdjust=\"spacing\" textLength=\"207\" x=\"30.5\" y=\"439.4263\">Request AuthN Sign In (ID, Pass)</text><path d=\"M330,423.3594 L330,448.3594 L469,448.3594 L469,433.3594 L459,423.3594 L330,423.3594 \" fill=\"#FBFB77\" filter=\"url(#f1xlz3pg29dzoe)\" style=\"stroke:#A80036;stroke-width:1.0;\"/><path d=\"M459,423.3594 L459,433.3594 L469,433.3594 L459,423.3594 \" fill=\"#FBFB77\" style=\"stroke:#A80036;stroke-width:1.0;\"/><text fill=\"#000000\" font-family=\"sans-serif\" font-size=\"13\" lengthAdjust=\"spacing\" textLength=\"118\" x=\"336\" y=\"440.4263\">POST /user/sign_in</text><line style=\"stroke:#A80036;stroke-width:1.0;\" x1=\"325.5\" x2=\"367.5\" y1=\"478.625\" y2=\"478.625\"/><line style=\"stroke:#A80036;stroke-width:1.0;\" x1=\"367.5\" x2=\"367.5\" y1=\"478.625\" y2=\"491.625\"/><line style=\"stroke:#A80036;stroke-width:1.0;\" x1=\"326.5\" x2=\"367.5\" y1=\"491.625\" y2=\"491.625\"/><polygon fill=\"#A80036\" points=\"336.5,487.625,326.5,491.625,336.5,495.625,332.5,491.625\" style=\"stroke:#A80036;stroke-width:1.0;\"/><text fill=\"#000000\" font-family=\"sans-serif\" font-size=\"13\" lengthAdjust=\"spacing\" textLength=\"53\" x=\"332.5\" y=\"473.5591\">Redirect</text><path d=\"M397,463.9922 L397,488.9922 L553,488.9922 L553,473.9922 L543,463.9922 L397,463.9922 \" fill=\"#FBFB77\" filter=\"url(#f1xlz3pg29dzoe)\" style=\"stroke:#A80036;stroke-width:1.0;\"/><path d=\"M543,463.9922 L543,473.9922 L553,473.9922 L543,463.9922 \" fill=\"#FBFB77\" style=\"stroke:#A80036;stroke-width:1.0;\"/><text fill=\"#000000\" font-family=\"sans-serif\" font-size=\"13\" lengthAdjust=\"spacing\" textLength=\"135\" x=\"403\" y=\"481.0591\">GET /oauth/authorize</text><rect fill=\"#EEEEEE\" filter=\"url(#f1xlz3pg29dzoe)\" height=\"3\" style=\"stroke:#EEEEEE;stroke-width:1.0;\" width=\"705.5\" x=\"0\" y=\"520.1914\"/><line style=\"stroke:#000000;stroke-width:1.0;\" x1=\"0\" x2=\"705.5\" y1=\"520.1914\" y2=\"520.1914\"/><line style=\"stroke:#000000;stroke-width:1.0;\" x1=\"0\" x2=\"705.5\" y1=\"523.1914\" y2=\"523.1914\"/><rect fill=\"#EEEEEE\" filter=\"url(#f1xlz3pg29dzoe)\" height=\"23.1328\" style=\"stroke:#000000;stroke-width:2.0;\" width=\"124\" x=\"290.75\" y=\"509.625\"/><text fill=\"#000000\" font-family=\"sans-serif\" font-size=\"13\" font-weight=\"bold\" lengthAdjust=\"spacing\" textLength=\"105\" x=\"296.75\" y=\"525.6919\">Authorization</text><polygon fill=\"#A80036\" points=\"415.5,564.8906,425.5,568.8906,415.5,572.8906,419.5,568.8906\" style=\"stroke:#A80036;stroke-width:1.0;\"/><line style=\"stroke:#A80036;stroke-width:1.0;\" x1=\"320.5\" x2=\"421.5\" y1=\"568.8906\" y2=\"568.8906\"/><text fill=\"#000000\" font-family=\"sans-serif\" font-size=\"13\" lengthAdjust=\"spacing\" textLength=\"53\" x=\"327.5\" y=\"563.8247\">Redirect</text><path d=\"M442,547.7578 L442,572.7578 L598,572.7578 L598,557.7578 L588,547.7578 L442,547.7578 \" fill=\"#FBFB77\" filter=\"url(#f1xlz3pg29dzoe)\" style=\"stroke:#A80036;stroke-width:1.0;\"/><path d=\"M588,547.7578 L588,557.7578 L598,557.7578 L588,547.7578 \" fill=\"#FBFB77\" style=\"stroke:#A80036;stroke-width:1.0;\"/><text fill=\"#000000\" font-family=\"sans-serif\" font-size=\"13\" lengthAdjust=\"spacing\" textLength=\"135\" x=\"448\" y=\"564.8247\">GET /oauth/authorize</text><polygon fill=\"#A80036\" points=\"34.5,599.0234,24.5,603.0234,34.5,607.0234,30.5,603.0234\" style=\"stroke:#A80036;stroke-width:1.0;\"/><line style=\"stroke:#A80036;stroke-width:1.0;\" x1=\"28.5\" x2=\"431.5\" y1=\"603.0234\" y2=\"603.0234\"/><text fill=\"#000000\" font-family=\"sans-serif\" font-size=\"13\" lengthAdjust=\"spacing\" textLength=\"181\" x=\"40.5\" y=\"597.9575\">Response AuthZ Application</text><polygon fill=\"#A80036\" points=\"415.5,633.1563,425.5,637.1563,415.5,641.1563,419.5,637.1563\" style=\"stroke:#A80036;stroke-width:1.0;\"/><line style=\"stroke:#A80036;stroke-width:1.0;\" x1=\"23.5\" x2=\"421.5\" y1=\"637.1563\" y2=\"637.1563\"/><text fill=\"#000000\" font-family=\"sans-serif\" font-size=\"13\" lengthAdjust=\"spacing\" textLength=\"219\" x=\"30.5\" y=\"632.0903\">Request AuthZ Application (Allow)</text><path d=\"M442,616.0234 L442,641.0234 L606,641.0234 L606,626.0234 L596,616.0234 L442,616.0234 \" fill=\"#FBFB77\" filter=\"url(#f1xlz3pg29dzoe)\" style=\"stroke:#A80036;stroke-width:1.0;\"/><path d=\"M596,616.0234 L596,626.0234 L606,626.0234 L596,616.0234 \" fill=\"#FBFB77\" style=\"stroke:#A80036;stroke-width:1.0;\"/><text fill=\"#000000\" font-family=\"sans-serif\" font-size=\"13\" lengthAdjust=\"spacing\" textLength=\"143\" x=\"448\" y=\"633.0903\">POST /oauth/authorize</text><line style=\"stroke:#A80036;stroke-width:1.0;\" x1=\"437.5\" x2=\"479.5\" y1=\"671.2891\" y2=\"671.2891\"/><line style=\"stroke:#A80036;stroke-width:1.0;\" x1=\"479.5\" x2=\"479.5\" y1=\"671.2891\" y2=\"684.2891\"/><line style=\"stroke:#A80036;stroke-width:1.0;\" x1=\"438.5\" x2=\"479.5\" y1=\"684.2891\" y2=\"684.2891\"/><polygon fill=\"#A80036\" points=\"448.5,680.2891,438.5,684.2891,448.5,688.2891,444.5,684.2891\" style=\"stroke:#A80036;stroke-width:1.0;\"/><text fill=\"#000000\" font-family=\"sans-serif\" font-size=\"13\" lengthAdjust=\"spacing\" textLength=\"97\" x=\"444.5\" y=\"666.2231\">Generate Code</text><polygon fill=\"#A80036\" points=\"217.5,714.4219,207.5,718.4219,217.5,722.4219,213.5,718.4219\" style=\"stroke:#A80036;stroke-width:1.0;\"/><line style=\"stroke:#A80036;stroke-width:1.0;\" x1=\"211.5\" x2=\"431.5\" y1=\"718.4219\" y2=\"718.4219\"/><text fill=\"#000000\" font-family=\"sans-serif\" font-size=\"13\" lengthAdjust=\"spacing\" textLength=\"53\" x=\"223.5\" y=\"713.356\">Redirect</text><path d=\"M442,697.2891 L442,722.2891 L548,722.2891 L548,707.2891 L538,697.2891 L442,697.2891 \" fill=\"#FBFB77\" filter=\"url(#f1xlz3pg29dzoe)\" style=\"stroke:#A80036;stroke-width:1.0;\"/><path d=\"M538,697.2891 L538,707.2891 L548,707.2891 L538,697.2891 \" fill=\"#FBFB77\" style=\"stroke:#A80036;stroke-width:1.0;\"/><text fill=\"#000000\" font-family=\"sans-serif\" font-size=\"13\" lengthAdjust=\"spacing\" textLength=\"85\" x=\"448\" y=\"714.356\">GET /callback</text><polygon fill=\"#A80036\" points=\"415.5,753.5547,425.5,757.5547,415.5,761.5547,419.5,757.5547\" style=\"stroke:#A80036;stroke-width:1.0;\"/><line style=\"stroke:#A80036;stroke-width:1.0;\" x1=\"206.5\" x2=\"421.5\" y1=\"757.5547\" y2=\"757.5547\"/><text fill=\"#000000\" font-family=\"sans-serif\" font-size=\"13\" lengthAdjust=\"spacing\" textLength=\"145\" x=\"213.5\" y=\"752.4888\">Request Access Token</text><path d=\"M442,736.4219 L442,761.4219 L633,761.4219 L633,746.4219 L623,736.4219 L442,736.4219 \" fill=\"#FBFB77\" filter=\"url(#f1xlz3pg29dzoe)\" style=\"stroke:#A80036;stroke-width:1.0;\"/><path d=\"M623,736.4219 L623,746.4219 L633,746.4219 L623,736.4219 \" fill=\"#FBFB77\" style=\"stroke:#A80036;stroke-width:1.0;\"/><text fill=\"#000000\" font-family=\"sans-serif\" font-size=\"13\" lengthAdjust=\"spacing\" textLength=\"170\" x=\"448\" y=\"753.4888\">POST /oauth/access_token</text><line style=\"stroke:#A80036;stroke-width:1.0;\" x1=\"437.5\" x2=\"479.5\" y1=\"791.6875\" y2=\"791.6875\"/><line style=\"stroke:#A80036;stroke-width:1.0;\" x1=\"479.5\" x2=\"479.5\" y1=\"791.6875\" y2=\"804.6875\"/><line style=\"stroke:#A80036;stroke-width:1.0;\" x1=\"438.5\" x2=\"479.5\" y1=\"804.6875\" y2=\"804.6875\"/><polygon fill=\"#A80036\" points=\"448.5,800.6875,438.5,804.6875,448.5,808.6875,444.5,804.6875\" style=\"stroke:#A80036;stroke-width:1.0;\"/><text fill=\"#000000\" font-family=\"sans-serif\" font-size=\"13\" lengthAdjust=\"spacing\" textLength=\"129\" x=\"444.5\" y=\"786.6216\">Authorization Code?</text><line style=\"stroke:#A80036;stroke-width:1.0;\" x1=\"437.5\" x2=\"479.5\" y1=\"833.8203\" y2=\"833.8203\"/><line style=\"stroke:#A80036;stroke-width:1.0;\" x1=\"479.5\" x2=\"479.5\" y1=\"833.8203\" y2=\"846.8203\"/><line style=\"stroke:#A80036;stroke-width:1.0;\" x1=\"438.5\" x2=\"479.5\" y1=\"846.8203\" y2=\"846.8203\"/><polygon fill=\"#A80036\" points=\"448.5,842.8203,438.5,846.8203,448.5,850.8203,444.5,846.8203\" style=\"stroke:#A80036;stroke-width:1.0;\"/><text fill=\"#000000\" font-family=\"sans-serif\" font-size=\"13\" lengthAdjust=\"spacing\" textLength=\"103\" x=\"444.5\" y=\"828.7544\">Generate Token</text><polygon fill=\"#A80036\" points=\"217.5,871.9531,207.5,875.9531,217.5,879.9531,213.5,875.9531\" style=\"stroke:#A80036;stroke-width:1.0;\"/><line style=\"stroke:#A80036;stroke-width:1.0;stroke-dasharray:2.0,2.0;\" x1=\"211.5\" x2=\"431.5\" y1=\"875.9531\" y2=\"875.9531\"/><text fill=\"#000000\" font-family=\"sans-serif\" font-size=\"13\" lengthAdjust=\"spacing\" textLength=\"155\" x=\"223.5\" y=\"870.8872\">Response Access Token</text><line style=\"stroke:#A80036;stroke-width:1.0;\" x1=\"206.5\" x2=\"248.5\" y1=\"905.0859\" y2=\"905.0859\"/><line style=\"stroke:#A80036;stroke-width:1.0;\" x1=\"248.5\" x2=\"248.5\" y1=\"905.0859\" y2=\"918.0859\"/><line style=\"stroke:#A80036;stroke-width:1.0;\" x1=\"207.5\" x2=\"248.5\" y1=\"918.0859\" y2=\"918.0859\"/><polygon fill=\"#A80036\" points=\"217.5,914.0859,207.5,918.0859,217.5,922.0859,213.5,918.0859\" style=\"stroke:#A80036;stroke-width:1.0;\"/><text fill=\"#000000\" font-family=\"sans-serif\" font-size=\"13\" lengthAdjust=\"spacing\" textLength=\"53\" x=\"213.5\" y=\"900.02\">Redirect</text><path d=\"M278,890.4531 L278,915.4531 L409,915.4531 L409,900.4531 L399,890.4531 L278,890.4531 \" fill=\"#FBFB77\" filter=\"url(#f1xlz3pg29dzoe)\" style=\"stroke:#A80036;stroke-width:1.0;\"/><path d=\"M399,890.4531 L399,900.4531 L409,900.4531 L399,890.4531 \" fill=\"#FBFB77\" style=\"stroke:#A80036;stroke-width:1.0;\"/><text fill=\"#000000\" font-family=\"sans-serif\" font-size=\"13\" lengthAdjust=\"spacing\" textLength=\"110\" x=\"284\" y=\"907.52\">GET /user/sign_in</text><line style=\"stroke:#A80036;stroke-width:1.0;\" x1=\"206.5\" x2=\"248.5\" y1=\"947.2188\" y2=\"947.2188\"/><line style=\"stroke:#A80036;stroke-width:1.0;\" x1=\"248.5\" x2=\"248.5\" y1=\"947.2188\" y2=\"960.2188\"/><line style=\"stroke:#A80036;stroke-width:1.0;\" x1=\"207.5\" x2=\"248.5\" y1=\"960.2188\" y2=\"960.2188\"/><polygon fill=\"#A80036\" points=\"217.5,956.2188,207.5,960.2188,217.5,964.2188,213.5,960.2188\" style=\"stroke:#A80036;stroke-width:1.0;\"/><text fill=\"#000000\" font-family=\"sans-serif\" font-size=\"13\" lengthAdjust=\"spacing\" textLength=\"95\" x=\"213.5\" y=\"942.1528\">Access Token?</text><rect fill=\"#EEEEEE\" filter=\"url(#f1xlz3pg29dzoe)\" height=\"3\" style=\"stroke:#EEEEEE;stroke-width:1.0;\" width=\"705.5\" x=\"0\" y=\"988.7852\"/><line style=\"stroke:#000000;stroke-width:1.0;\" x1=\"0\" x2=\"705.5\" y1=\"988.7852\" y2=\"988.7852\"/><line style=\"stroke:#000000;stroke-width:1.0;\" x1=\"0\" x2=\"705.5\" y1=\"991.7852\" y2=\"991.7852\"/><rect fill=\"#EEEEEE\" filter=\"url(#f1xlz3pg29dzoe)\" height=\"23.1328\" style=\"stroke:#000000;stroke-width:2.0;\" width=\"89\" x=\"308.25\" y=\"978.2188\"/><text fill=\"#000000\" font-family=\"sans-serif\" font-size=\"13\" font-weight=\"bold\" lengthAdjust=\"spacing\" textLength=\"70\" x=\"314.25\" y=\"994.2856\">Resource</text><polygon fill=\"#A80036\" points=\"568.5,1033.4844,578.5,1037.4844,568.5,1041.4844,572.5,1037.4844\" style=\"stroke:#A80036;stroke-width:1.0;\"/><line style=\"stroke:#A80036;stroke-width:1.0;\" x1=\"206.5\" x2=\"574.5\" y1=\"1037.4844\" y2=\"1037.4844\"/><text fill=\"#000000\" font-family=\"sans-serif\" font-size=\"13\" lengthAdjust=\"spacing\" textLength=\"188\" x=\"213.5\" y=\"1032.4185\">Request User (Access Token)</text><path d=\"M595,1016.3516 L595,1041.3516 L701,1041.3516 L701,1026.3516 L691,1016.3516 L595,1016.3516 \" fill=\"#FBFB77\" filter=\"url(#f1xlz3pg29dzoe)\" style=\"stroke:#A80036;stroke-width:1.0;\"/><path d=\"M691,1016.3516 L691,1026.3516 L701,1026.3516 L691,1016.3516 \" fill=\"#FBFB77\" style=\"stroke:#A80036;stroke-width:1.0;\"/><text fill=\"#000000\" font-family=\"sans-serif\" font-size=\"13\" lengthAdjust=\"spacing\" textLength=\"85\" x=\"601\" y=\"1033.4185\">GET /api/user</text><polygon fill=\"#A80036\" points=\"217.5,1067.6172,207.5,1071.6172,217.5,1075.6172,213.5,1071.6172\" style=\"stroke:#A80036;stroke-width:1.0;\"/><line style=\"stroke:#A80036;stroke-width:1.0;stroke-dasharray:2.0,2.0;\" x1=\"211.5\" x2=\"584.5\" y1=\"1071.6172\" y2=\"1071.6172\"/><text fill=\"#000000\" font-family=\"sans-serif\" font-size=\"13\" lengthAdjust=\"spacing\" textLength=\"96\" x=\"223.5\" y=\"1066.5513\">Response User</text><rect fill=\"#EEEEEE\" filter=\"url(#f1xlz3pg29dzoe)\" height=\"3\" style=\"stroke:#EEEEEE;stroke-width:1.0;\" width=\"705.5\" x=\"0\" y=\"1100.1836\"/><line style=\"stroke:#000000;stroke-width:1.0;\" x1=\"0\" x2=\"705.5\" y1=\"1100.1836\" y2=\"1100.1836\"/><line style=\"stroke:#000000;stroke-width:1.0;\" x1=\"0\" x2=\"705.5\" y1=\"1103.1836\" y2=\"1103.1836\"/><rect fill=\"#EEEEEE\" filter=\"url(#f1xlz3pg29dzoe)\" height=\"23.1328\" style=\"stroke:#000000;stroke-width:2.0;\" width=\"54\" x=\"325.75\" y=\"1089.6172\"/><text fill=\"#000000\" font-family=\"sans-serif\" font-size=\"13\" font-weight=\"bold\" lengthAdjust=\"spacing\" textLength=\"35\" x=\"331.75\" y=\"1105.6841\">Final</text><line style=\"stroke:#A80036;stroke-width:1.0;\" x1=\"206.5\" x2=\"248.5\" y1=\"1143.8828\" y2=\"1143.8828\"/><line style=\"stroke:#A80036;stroke-width:1.0;\" x1=\"248.5\" x2=\"248.5\" y1=\"1143.8828\" y2=\"1156.8828\"/><line style=\"stroke:#A80036;stroke-width:1.0;\" x1=\"207.5\" x2=\"248.5\" y1=\"1156.8828\" y2=\"1156.8828\"/><polygon fill=\"#A80036\" points=\"217.5,1152.8828,207.5,1156.8828,217.5,1160.8828,213.5,1156.8828\" style=\"stroke:#A80036;stroke-width:1.0;\"/><text fill=\"#000000\" font-family=\"sans-serif\" font-size=\"13\" lengthAdjust=\"spacing\" textLength=\"53\" x=\"213.5\" y=\"1138.8169\">Redirect</text><path d=\"M278,1129.25 L278,1154.25 L333,1154.25 L333,1139.25 L323,1129.25 L278,1129.25 \" fill=\"#FBFB77\" filter=\"url(#f1xlz3pg29dzoe)\" style=\"stroke:#A80036;stroke-width:1.0;\"/><path d=\"M323,1129.25 L323,1139.25 L333,1139.25 L323,1129.25 \" fill=\"#FBFB77\" style=\"stroke:#A80036;stroke-width:1.0;\"/><text fill=\"#000000\" font-family=\"sans-serif\" font-size=\"13\" lengthAdjust=\"spacing\" textLength=\"34\" x=\"284\" y=\"1146.3169\">GET /</text><polygon fill=\"#A80036\" points=\"34.5,1182.0156,24.5,1186.0156,34.5,1190.0156,30.5,1186.0156\" style=\"stroke:#A80036;stroke-width:1.0;\"/><line style=\"stroke:#A80036;stroke-width:1.0;\" x1=\"28.5\" x2=\"200.5\" y1=\"1186.0156\" y2=\"1186.0156\"/><text fill=\"#000000\" font-family=\"sans-serif\" font-size=\"13\" lengthAdjust=\"spacing\" textLength=\"149\" x=\"40.5\" y=\"1180.9497\">Response Client Sign In</text><!--MD5=[2056dd7a67f94d0db24bf59019ef8d5f]\n@startuml\nactor User\n\n== Initial ==\n\nUser -> Client : Request Client Sign In\nnote right : GET /user/sign_in\n\nactivate Client\nClient -> Client : Access Token?\n\n== Authentication ==\n\nClient -> AuthN : Redirect\nnote right : GET /oauth/authorize\ndeactivate Client\n\nactivate AuthN\nAuthN -> AuthN : Current User?\nAuthN -> AuthN : Redirect\nnote right : GET /user/sign_in\nUser <- AuthN : Response AuthN Sign In\ndeactivate AuthN\n\nUser -> AuthN : Request AuthN Sign In (ID, Pass)\n\nactivate AuthN\nnote right : POST /user/sign_in\nAuthN -> AuthN : Redirect\nnote right : GET /oauth/authorize\n\n== Authorization ==\n\nAuthN -> AuthZ : Redirect\nnote right : GET /oauth/authorize\ndeactivate AuthN\n\nactivate AuthZ\nUser <- AuthZ : Response AuthZ Application\ndeactivate AuthZ\n\nUser -> AuthZ : Request AuthZ Application (Allow)\nnote right : POST /oauth/authorize\n\nactivate AuthZ\nAuthZ -> AuthZ : Generate Code\n\nClient <- AuthZ : Redirect\nnote right : GET /callback\ndeactivate AuthZ\n\nactivate Client\nClient -> AuthZ : Request Access Token\nnote right : POST /oauth/access_token\n\nactivate AuthZ\nAuthZ -> AuthZ : Authorization Code?\nAuthZ -> AuthZ : Generate Token\n\nClient <- - AuthZ : Response Access Token\ndeactivate AuthZ\n\nClient -> Client : Redirect\nnote right : GET /user/sign_in\n\nClient -> Client : Access Token?\n\n== Resource ==\n\nClient -> Resource : Request User (Access Token)\nnote right : GET /api/user\n\nactivate Resource\nClient <- - Resource : Response User\ndeactivate Resource\n\n== Final ==\n\nClient -> Client : Redirect\nnote right : GET /\n\nUser <- Client : Response Client Sign In\ndeactivate Client\n@enduml\n\nPlantUML version 1.2021.13beta8(Unknown compile time)\n(GPL source distribution)\nJava Runtime: Java(TM) SE Runtime Environment\nJVM: Java HotSpot(TM) 64-Bit Server VM\nDefault Encoding: UTF-8\nLanguage: en\nCountry: US\n--></g></svg>"
          },
          "metadata": {},
          "execution_count": 7
        }
      ]
    },
    {
      "cell_type": "code",
      "metadata": {
        "id": "9JbqOZCrupLS"
      },
      "source": [
        ""
      ],
      "execution_count": null,
      "outputs": []
    }
  ]
}